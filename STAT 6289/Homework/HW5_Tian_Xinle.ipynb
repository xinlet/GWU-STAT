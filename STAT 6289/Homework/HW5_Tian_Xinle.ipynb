{
 "cells": [
  {
   "cell_type": "code",
   "execution_count": 4,
   "metadata": {},
   "outputs": [
    {
     "name": "stdout",
     "output_type": "stream",
     "text": [
      "Collecting pymagnitudeNote: you may need to restart the kernel to use updated packages.\n",
      "\n",
      "  Downloading pymagnitude-0.1.143.tar.gz (5.4 MB)\n",
      "Requirement already satisfied (use --upgrade to upgrade): pymagnitude from https://files.pythonhosted.org/packages/69/40/ec05f0630f6dd56eb323dee5bc70a52e4f21247185d8662d3d08267cc6c7/pymagnitude-0.1.143.tar.gz#sha256=c97f552ea28d733aeac7058821ae876fe6b2f42392786bc4dd231ef73b3c8fe2 in d:\\anaconda\\envs\\tf\\lib\\site-packages\\pymagnitude-0.1.143-py3.7-win-amd64.egg\n",
      "Building wheels for collected packages: pymagnitude\n",
      "  Building wheel for pymagnitude (setup.py): started\n",
      "  Building wheel for pymagnitude (setup.py): finished with status 'done'\n",
      "  Created wheel for pymagnitude: filename=pymagnitude-0.1.143-cp37-cp37m-win_amd64.whl size=85332671 sha256=e0108a8dce08d16cd7c2a2db5548ab7d10ab85c4197c94ade82abb3a62857541\n",
      "  Stored in directory: c:\\users\\tianx\\appdata\\local\\pip\\cache\\wheels\\0e\\96\\d6\\b765a1ce34517c193d764b634b1ff7db5e1dcfea2520f17273\n",
      "Successfully built pymagnitude\n"
     ]
    }
   ],
   "source": [
    "pip install pymagnitude"
   ]
  },
  {
   "cell_type": "code",
   "execution_count": 8,
   "metadata": {},
   "outputs": [],
   "source": [
    "from pymagnitude import *\n",
    "file_path = \"GoogleNews-vectors-negative300.magnitude\"\n",
    "vectors = Magnitude(file_path)"
   ]
  },
  {
   "cell_type": "markdown",
   "metadata": {},
   "source": [
    "### 1. What is the dimensionality of these word embeddings? Provide an integer answer."
   ]
  },
  {
   "cell_type": "code",
   "execution_count": 12,
   "metadata": {},
   "outputs": [
    {
     "data": {
      "text/plain": [
       "300"
      ]
     },
     "execution_count": 12,
     "metadata": {},
     "output_type": "execute_result"
    }
   ],
   "source": [
    "# Check the dimensionality\n",
    "vectors.dim"
   ]
  },
  {
   "cell_type": "markdown",
   "metadata": {},
   "source": [
    "### 2. What are the top-5 most similar words to 'picnic' (not including picnic itself)?"
   ]
  },
  {
   "cell_type": "code",
   "execution_count": 22,
   "metadata": {},
   "outputs": [
    {
     "data": {
      "text/plain": [
       "[('picnic', 0.9999999),\n",
       " ('picnics', 0.7400875),\n",
       " ('picnic_lunch', 0.7213739),\n",
       " ('Picnic', 0.7005339),\n",
       " ('potluck_picnic', 0.66832733),\n",
       " ('picnic_supper', 0.6518913),\n",
       " ('picnicking', 0.63550216),\n",
       " ('cookout', 0.63243484),\n",
       " ('Hiking_biking_camping', 0.6256069),\n",
       " ('barbeque', 0.62256277)]"
      ]
     },
     "execution_count": 22,
     "metadata": {},
     "output_type": "execute_result"
    }
   ],
   "source": [
    "# Check the 5 most similar wards to 'picnic'\n",
    "# I entered 10 just in case if we need to exclude some other words.\n",
    "vectors.most_similar(vectors.query(\"picnic\"), topn = 10)\n",
    "\n",
    "# Because the answer does not including 'picnic' itself, so the first one shall not be selected.\n",
    "# I choose 'picnics', 'picnic_lunch', 'Picnic', 'potluck_picnic', 'picnic_supper'."
   ]
  },
  {
   "cell_type": "markdown",
   "metadata": {},
   "source": [
    "### 3. According to the word embeddings, which of these words is not like the others? ['tissue', 'papyrus', 'manila', 'newsprint', 'parchment', 'gazette']"
   ]
  },
  {
   "cell_type": "code",
   "execution_count": 28,
   "metadata": {},
   "outputs": [
    {
     "data": {
      "text/plain": [
       "'tissue'"
      ]
     },
     "execution_count": 28,
     "metadata": {},
     "output_type": "execute_result"
    }
   ],
   "source": [
    "# check the one that is not like the others\n",
    "vectors.doesnt_match([\"tissue\", \"papyrus\", \"manila\", \"newsprint\", \"parchment\", \"gazette\"])"
   ]
  },
  {
   "cell_type": "markdown",
   "metadata": {},
   "source": [
    "### 4. Solve the following analogy: 'leg' is to 'jump' as 'X' is to 'throw'."
   ]
  },
  {
   "cell_type": "code",
   "execution_count": 29,
   "metadata": {},
   "outputs": [
    {
     "data": {
      "text/plain": [
       "[('forearm', 0.48294657),\n",
       " ('shin', 0.47376168),\n",
       " ('elbow', 0.4679689),\n",
       " ('metacarpal_bone', 0.46781483),\n",
       " ('metacarpal_bones', 0.46605828),\n",
       " ('ankle', 0.46434426),\n",
       " ('shoulder', 0.4618336),\n",
       " ('thigh', 0.45393687),\n",
       " ('knee', 0.4455707),\n",
       " ('ulna_bone', 0.44234914)]"
      ]
     },
     "execution_count": 29,
     "metadata": {},
     "output_type": "execute_result"
    }
   ],
   "source": [
    "vectors.most_similar(positive = [\"leg\", \"throw\"], negative = [\"jump\"])\n",
    "\n",
    "# the answer I choose is 'forearm' since it's on the top."
   ]
  },
  {
   "cell_type": "code",
   "execution_count": null,
   "metadata": {},
   "outputs": [],
   "source": []
  }
 ],
 "metadata": {
  "kernelspec": {
   "display_name": "Python 3",
   "language": "python",
   "name": "python3"
  },
  "language_info": {
   "codemirror_mode": {
    "name": "ipython",
    "version": 3
   },
   "file_extension": ".py",
   "mimetype": "text/x-python",
   "name": "python",
   "nbconvert_exporter": "python",
   "pygments_lexer": "ipython3",
   "version": "3.7.9"
  }
 },
 "nbformat": 4,
 "nbformat_minor": 4
}
